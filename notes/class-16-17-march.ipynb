{
 "cells": [
  {
   "cell_type": "markdown",
   "metadata": {},
   "source": [
    "khan academy for statistics understanding\n",
    "https://www.amazon.in/Complete-Business-Statistics-Amir-Aczel/dp/0071077901\n",
    "* Statistics can be misinterpreted/misused easily\n",
    "* Data Mining, Knowledge discovery => humans have to do this.\n",
    "* Classification : labeling, naming\n",
    "* Clustering: grouping based on feature"
   ]
  },
  {
   "cell_type": "markdown",
   "metadata": {},
   "source": [
    "* Random selection should be done across all variations."
   ]
  },
  {
   "cell_type": "markdown",
   "metadata": {},
   "source": [
    "* Range: how are the extremes behaving\n",
    "* IQR: middle quartile represents the expected value\n",
    "* Variance: squared (difference) mean and not absolute, so as to magnify the outlier\n",
    "* how is standardization of data related to measure of spread\n",
    "* Measures of shape: frequency"
   ]
  }
 ],
 "metadata": {
  "kernelspec": {
   "display_name": "Python 3",
   "language": "python",
   "name": "python3"
  },
  "language_info": {
   "codemirror_mode": {
    "name": "ipython",
    "version": 3
   },
   "file_extension": ".py",
   "mimetype": "text/x-python",
   "name": "python",
   "nbconvert_exporter": "python",
   "pygments_lexer": "ipython3",
   "version": "3.7.1"
  }
 },
 "nbformat": 4,
 "nbformat_minor": 2
}

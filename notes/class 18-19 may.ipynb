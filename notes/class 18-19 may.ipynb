{
 "cells": [
  {
   "cell_type": "markdown",
   "metadata": {},
   "source": [
    "\n",
    "\n",
    "https://www.oreilly.com/library/view/hands-on-machine-learning/9781492032632/ch01.html\n",
    "\n",
    "* Objective of ML => a machine \"knows\" something, based on which it can produce an \"answer\" for your \"question\". remember this machine is supposed to do a particular \"task\"\n",
    "\n",
    "* \"knows\" => a \"model\" that helps in performing a task and produces \"answer\". a machine running in production has this \"model\"\n",
    "\n",
    "* \"model\" => brain of the machine, a set of numbers that can fit in a formula, the formula itself. whats important in production is that how often this model is updated.\n",
    "\n",
    "* \"answer\" => a prediction number(decimal, integer, %probability) in a very big range of numbers, classifications, clustering, associations(a ruleset)\n",
    "\n",
    "* \"question\" => input data to perform a task and produce \"answer\"\n",
    "\n",
    "\n",
    "* all that happens after getting the raw data and before deployment of model in production, is what we as a data scientist have to do. we need to create the \"model\".\n",
    "* the model can be a combination of any of \n",
    "    * SL/USL/SEMI-SL/RL => tells you the way this machine was \"born and brought up\"\n",
    "    \n",
    "        * SL => you get a fat book, book contains what we \"need\" to learn, i.e. the output. then when we send in an input, our model can produce \"classification\", \"regression\"(continuous data type of output)\n",
    "\n",
    "        * USL => you get a notebook with random notes, all you can do is cluster them in relatable concepts, then we send in an input, out model will produce \"clusters\", \"associations\"(rules based on which clusters were made)\n",
    "\n",
    "        * RL => you don't have a book, you don't have the random notes either, you directly go for an exam, you get result, you improve, you go for the exam again, and so on. After this long running process, you are trained(or you are trained with only 10% accuracy after lets say 100 iterations, but you create a model out of it, and then you keep iterating till you reach more than 95% accuracy), now we send in an input(a question), get an answer\n",
    "\n",
    "    * Batch/Online => tells you the capability of this machine, it is able to process a bunch of data and then learn, or it can learn on the job.\n",
    "    \n",
    "        * Batch => you get the fat book(or lot of random notes), all at once, then you, do SL/USL; here model refresh is not frequent. not sure if you can do RL with Batch data.\n",
    "        \n",
    "        * Online => you only get chapters, once a week, then you do SL/USL/RL; here model refresh is frequent.\n",
    "    \n",
    "    * Instance/Model => how do you process the training data to update your model\n",
    "    \n",
    "        * Instance based  => learn by comparison(the hard working way), you look at the \"question\" try to match it with all other \"questions\" you know about, arrive at an answer. this is like brute force.\n",
    "        \n",
    "        * Model based learn the smart way(try to bucket information, or try to generalize by a formula), you have bucketed your set of \"questions\" based on a formula, as soon as you get a \"question\" you apply your formula and arrive at an answer. unlike brute force, this looks like an algorithm.\n",
    "    \n",
    "* each combination for example SL/Batch/Instance can have one or many of  ML algorithms. each with its own set of tradeoffs\n",
    "\n",
    "* each algorithm is supposed to create a \"model\" for a particular \"task\" and \"answer\".\n",
    "\n",
    "* each algorithm is supposed to take \"training\" data and create a \"model\", get the accuracy by \"test\" data.\n"
   ]
  },
  {
   "cell_type": "code",
   "execution_count": null,
   "metadata": {},
   "outputs": [],
   "source": []
  }
 ],
 "metadata": {
  "kernelspec": {
   "display_name": "Python 3",
   "language": "python",
   "name": "python3"
  },
  "language_info": {
   "codemirror_mode": {
    "name": "ipython",
    "version": 3
   },
   "file_extension": ".py",
   "mimetype": "text/x-python",
   "name": "python",
   "nbconvert_exporter": "python",
   "pygments_lexer": "ipython3",
   "version": "3.7.3"
  }
 },
 "nbformat": 4,
 "nbformat_minor": 2
}

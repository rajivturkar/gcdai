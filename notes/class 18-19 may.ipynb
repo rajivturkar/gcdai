{
 "cells": [
  {
   "cell_type": "markdown",
   "metadata": {},
   "source": [
    "* predictor variables\n",
    "* target variables\n",
    "\n",
    "if PV = Predictor variable & TV = Target variable,\n",
    "\n",
    "ML algo ==> a*PV1 + b*PV2 + ... n*PVn = TV\n",
    "\n",
    "now we feed a lot of data, i.e. PV1, PV2, PVn, TV \n",
    "\n",
    "then the ML algorightm solves for a, b, c, ...n. Something like n equations, n variables problem\n",
    "\n",
    "unsupervised learning\n",
    "* main objective of unsupervised learning is to identify hidden patterns(clustering & association)\n",
    "* k-means\n",
    "\n",
    "association\n",
    "* the **rules** which made clustering possible\n",
    "\n",
    "semi-supervised learning\n",
    "* use unsupervised, find clusters, find labels, apply supervised on that particular cluster which is already labeled"
   ]
  }
 ],
 "metadata": {
  "kernelspec": {
   "display_name": "Python 3",
   "language": "python",
   "name": "python3"
  },
  "language_info": {
   "codemirror_mode": {
    "name": "ipython",
    "version": 3
   },
   "file_extension": ".py",
   "mimetype": "text/x-python",
   "name": "python",
   "nbconvert_exporter": "python",
   "pygments_lexer": "ipython3",
   "version": "3.6.7"
  }
 },
 "nbformat": 4,
 "nbformat_minor": 2
}
